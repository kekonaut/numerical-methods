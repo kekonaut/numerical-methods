{
 "cells": [
  {
   "cell_type": "code",
   "execution_count": 10,
   "metadata": {
    "collapsed": true
   },
   "outputs": [],
   "source": [
    "import matplotlib.pyplot as plt\n",
    "import numpy as np"
   ]
  },
  {
   "cell_type": "heading",
   "metadata": {},
   "level": 3,
   "source": [
    "Вариант 1"
   ]
  },
  {
   "cell_type": "code",
   "execution_count": 11,
   "metadata": {},
   "outputs": [],
   "source": [
    "c2 = 0.05\n",
    "A = 3\n",
    "B = 3\n",
    "C = -3\n",
    "tol = 1e-5\n",
    "rtol = 1e-6\n",
    "atol = 1e-12\n"
   ]
  },
  {
   "cell_type": "code",
   "execution_count": 12,
   "metadata": {},
   "outputs": [],
   "source": [
    "def acc_y(x):\n",
    "    return [[np.exp(np.sin(el ** 2)),\n",
    "             np.exp(B * np.sin(el ** 2)),\n",
    "             C * np.sin(el ** 2) + A,\n",
    "             np.cos(el ** 2)] for el in x]\n"
   ]
  },
  {
   "cell_type": "code",
   "execution_count": 13,
   "metadata": {},
   "outputs": [],
   "source": [
    "def f(x, y):\n",
    "    return np.array([2 * x * np.sign(y[1]) * np.power(np.abs(y[1]), 1 / B) * y[3],\n",
    "                     2 * B * x * np.exp(B * (y[2] - A) / C) * y[3],\n",
    "                     2 * C * x * y[3],\n",
    "                     - 2 * x * np.sign(y[0]) * np.log(np.abs(y[0]))])\n"
   ]
  },
  {
   "cell_type": "code",
   "execution_count": 14,
   "metadata": {},
   "outputs": [],
   "source": [
    "def K(x, y, i, h, a, c):\n",
    "    sum = 0\n",
    "    for j in range(i):\n",
    "        sum += a[i][j] * K(x, y, j, h, a, c)\n",
    "    return f(x + c[i] * h, y + h * sum)\n"
   ]
  },
  {
   "cell_type": "code",
   "execution_count": 15,
   "metadata": {},
   "outputs": [],
   "source": [
    "def app_y(x, y, h, a, c, b):\n",
    "    sum = 0\n",
    "    for i in range(2):\n",
    "        sum += b[i] * K(x, y, i, h, a, c)\n",
    "    return np.array([y + h * sum])"
   ]
  },
  {
   "cell_type": "code",
   "execution_count": 16,
   "metadata": {},
   "outputs": [],
   "source": [
    "def rkutte(c2, h, x0=0, xn=5, y0=[1, 1, A, 1]):\n",
    "    c = [0, c2]\n",
    "    b = [0, 0]\n",
    "    a = [[0, 0], [0, 0]]\n",
    "    b[1] = 1 / (2 * c[1])\n",
    "    b[0] = 1 - b[1]\n",
    "    a[1][0] = c[1]\n",
    "    x = list(np.arange(x0, xn, h))\n",
    "    yj = list()\n",
    "    yj.append(y0)\n",
    "    yj = np.array(yj)\n",
    "    for i in range(1, len(x)):\n",
    "        yj = np.append(yj, app_y(x[i - 1], yj[i - 1], h, a, c, b), axis=0)\n",
    "    return yj\n"
   ]
  },
  {
   "cell_type": "markdown",
   "metadata": {},
   "source": [
    "Задание 3.1."
   ]
  },
  {
   "cell_type": "code",
   "execution_count": 17,
   "metadata": {},
   "outputs": [
    {
     "name": "stderr",
     "output_type": "stream",
     "text": [
      "/usr/local/lib/python3.7/site-packages/matplotlib/figure.py:98: MatplotlibDeprecationWarning: \nAdding an axes using the same arguments as a previous axes currently reuses the earlier instance.  In a future version, a new instance will always be created and returned.  Meanwhile, this warning can be suppressed, and the future behavior ensured, by passing a unique label to each axes instance.\n  \"Adding an axes using the same arguments as a previous axes \"\n"
     ]
    }
   ],
   "source": [
    "def task_1(h=0.001):\n",
    "    x = list(np.arange(0, 5, h))\n",
    "    plt.subplot(2, 1, 1)\n",
    "    plt.title('c2 = 0.5')\n",
    "    plt.plot(x, acc_y(x))\n",
    "    plt.plot(x, rkutte(0.5, h))\n",
    "    plt.subplot(2, 1, 2)\n",
    "    plt.title('c2 = 0.05')\n",
    "    plt.plot(x, rkutte(c2, h))\n",
    "    plt.plot(x, acc_y(x))\n",
    "    plt.show()\n",
    "\n",
    "task_1()"
   ]
  },
  {
   "cell_type": "markdown",
   "metadata": {},
   "source": [
    "Задание 3.2"
   ]
  },
  {
   "cell_type": "code",
   "execution_count": 18,
   "metadata": {},
   "outputs": [],
   "source": [
    "xk = np.array([x for x in range(7)])\n",
    "my = []\n",
    "op = []\n",
    "for k in xk:\n",
    "    x = list(np.arange(0, 5, 1 / (2 ** k)))\n",
    "    my_y = rkutte(c2, 1 / (2 ** k))\n",
    "    op_y = rkutte(0.5, 1 / (2 ** k))\n",
    "    real_y = acc_y(x)\n",
    "    my.append(np.linalg.norm(np.abs(real_y[-1] - my_y[-1])))\n",
    "    op.append(np.linalg.norm(np.abs(real_y[-1] - op_y[-1])))\n",
    "plt.subplot(2, 1, 1)\n",
    "plt.loglog(1 / (2 ** xk), my)\n",
    "plt.subplot(2, 1, 2)\n",
    "plt.loglog(1 / (2 ** xk), op)\n",
    "plt.show()\n"
   ]
  },
  {
   "cell_type": "markdown",
   "metadata": {},
   "source": [
    "Задание 3.3"
   ]
  },
  {
   "cell_type": "code",
   "execution_count": 23,
   "metadata": {},
   "outputs": [],
   "source": [
    "def step(tol, x0, xn, y0=[1, 1, A, 1]):\n",
    "    delt = (1 / max(np.abs(x0), np.abs(xn))) ** (2 + 1) + np.linalg.norm(f(x0, y0)) ** (2 + 1)\n",
    "    h = (tol / delt) ** (1 / (2 + 1))\n",
    "    y = y0 + h / 2 * (f(x0, y0) + f(x0 + h, y0 + h * f(x0, y0)))\n",
    "    return h, y\n"
   ]
  },
  {
   "cell_type": "code",
   "execution_count": 24,
   "metadata": {},
   "outputs": [
    {
     "name": "stdout",
     "output_type": "stream",
     "text": [
      "start h = 0.02247774790033101\noptim h = 6.062312580613346e-05\n"
     ]
    }
   ],
   "source": [
    "h1, y1 = step(tol, 0, 5, y0=[1, 1, A, 1])\n",
    "h = min(h1, step(tol, 0 + h1, 5, y1)[0])\n",
    "print('start h =', h)\n",
    "real_y = acc_y(x)\n",
    "x = list(np.arange(0, 5, h))\n",
    "y1 = rkutte(c2, h / 2)\n",
    "opt = h * np.sqrt((tol / np.linalg.norm(np.abs(real_y[-1] - y1[-1]))))\n",
    "print('optim h =', opt)\n",
    "task_1(opt)\n"
   ]
  },
  {
   "cell_type": "code",
   "execution_count": 28,
   "metadata": {},
   "outputs": [],
   "source": [
    "def rkutte2(c2, h, x0=0,xn=5, y0=[1, 1, A, 1]):\n",
    "    c = [0, c2]\n",
    "    b = [0, 0]\n",
    "    a = [[0, 0], [0, 0]]\n",
    "    b[1] = 1 / (2 * c[1])\n",
    "    b[0] = 1 - b[1]\n",
    "    a[1][0] = c[1]\n",
    "    x = [x0, x0 + h]\n",
    "    yj = list()\n",
    "    yj.append(y0)\n",
    "    yj = np.array(yj)\n",
    "    for i in range(1, len(x)):\n",
    "        yj = np.append(yj, app_y(x[i - 1], yj[i - 1], h, a, c, b), axis=0)\n",
    "    return yj\n"
   ]
  },
  {
   "cell_type": "markdown",
   "metadata": {},
   "source": [
    "Задание 4"
   ]
  },
  {
   "cell_type": "code",
   "execution_count": 32,
   "metadata": {},
   "outputs": [],
   "source": [
    "def optim(rtol, atol):\n",
    "    y0 = np.array([1, 1, A, 1])\n",
    "    x = [0]\n",
    "    y = [y0]\n",
    "    tol = rtol * np.linalg.norm(y0) + atol\n",
    "    h1, u1 = step(tol, 0, 5, y0)\n",
    "    h = min(h1, step(tol, 0 + h1, 5, u1)[0])\n",
    "    h_1 = h\n",
    "    h_max = h\n",
    "    y1 = rkutte2(0.05, h, x[-1], x[-1] + 2 * h, y0)[-1]\n",
    "    halfy = rkutte2(0.05, h / 2, x[-1], x[-1] + 3 * h / 2, y0)[-1]\n",
    "    y2 = rkutte2(0.05, h / 2, x[-1], x[-1] + 3 * h / 2, halfy)[-1]\n",
    "    r_1 = (y2 - y1) / (1 - 2 ** (-2))\n",
    "    r_2 = (y2 - y1) / ((2 ** 2) - 1)\n",
    "    while x[-1] < 5:\n",
    "        if np.linalg.norm(r_1) > tol * 2 ** 2:\n",
    "            h_1 = 0.5 * h_1\n",
    "            y1 = halfy\n",
    "            halfy = rkutte2(0.05, h_1 / 2, x[-1], x[-1] + 3 * h_1 / 2, y[-1])[-1]\n",
    "            y2 = rkutte2(0.4, h_1 / 2, x[-1], x[-1] + 3 * h_1 / 2, halfy)[-1]\n",
    "            r_1 = (y2 - y1) / (1 - 2 ** (-2))\n",
    "            r_2 = (y2 - y1) / ((2 ** 2) - 1)\n",
    "            continue\n",
    "        elif tol < np.linalg.norm(r_1) <= tol * 2 ** 2:\n",
    "            h_2 = h_1 / 2\n",
    "            x.append(x[-1] + h_1)\n",
    "            y.append(y2 + r_2)\n",
    "            h_max = max(h_max, h_1)\n",
    "        elif tol * (2 ** (-2 - 1)) <= np.linalg.norm(r_1) <= tol:\n",
    "            h_2 = h_1\n",
    "            x.append(x[-1] + h_1)\n",
    "            y.append(y1 + r_1)\n",
    "            h_max = max(h_max, h_1)\n",
    "        elif np.linalg.norm(r_1) < tol * (2 ** (-2 - 1)):\n",
    "            h_2 = min(2 * h_1, h_max)\n",
    "            x.append(x[-1] + h_1)\n",
    "            y.append(y1 + r_1)\n",
    "            h_max = max(h_max, h_1)\n",
    "        h_1 = h_2\n",
    "        y1 = rkutte2(0.05, h_1, x[-1], x[-1] + 2 * h_1, y[-1])[-1]\n",
    "        halfy = rkutte2(0.05, h_1 / 2, x[-1], x[-1] + 3 * h_1 / 2, y[-1])[-1]\n",
    "        y2 = rkutte2(0.05, h_1 / 2, x[-1], x[-1] + 3 * h_1 / 2, halfy)[-1]\n",
    "        r_1 = (y2 - y1) / (1 - 2 ** (-2))\n",
    "        r_2 = (y2 - y1) / ((2 ** 2) - 1)\n",
    "        tol = rtol * np.linalg.norm(y[-1]) + atol\n",
    "    return np.array(x), np.array(y)\n",
    "xopt, yopt = optim(rtol, atol)\n",
    "plt.subplot(2, 1, 1)\n",
    "plt.plot(xopt, yopt)\n",
    "plt.subplot(2, 1, 2)\n",
    "plt.plot(xopt, acc_y(xopt))\n",
    "plt.show()\n"
   ]
  },
  {
   "cell_type": "code",
   "execution_count": null,
   "metadata": {},
   "outputs": [],
   "source": []
  }
 ],
 "metadata": {
  "kernelspec": {
   "display_name": "Python 2",
   "language": "python",
   "name": "python2"
  },
  "language_info": {
   "codemirror_mode": {
    "name": "ipython",
    "version": 2
   },
   "file_extension": ".py",
   "mimetype": "text/x-python",
   "name": "python",
   "nbconvert_exporter": "python",
   "pygments_lexer": "ipython2",
   "version": "2.7.6"
  }
 },
 "nbformat": 4,
 "nbformat_minor": 0
}
